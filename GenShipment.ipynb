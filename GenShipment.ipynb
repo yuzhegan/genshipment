{
 "cells": [
  {
   "cell_type": "code",
   "execution_count": null,
   "id": "descending-porter",
   "metadata": {},
   "outputs": [],
   "source": [
    "1 先生成货件信息文件, 2 生成装箱单信息文件 "
   ]
  },
  {
   "cell_type": "markdown",
   "id": "smoking-philosophy",
   "metadata": {},
   "source": [
    "python GenShipData -i <装箱单信息> -t <装箱单信息的模板文件> -o 输入货件信息上传表格 -T <下载亚马逊当票货件的包装信息表格> -O <生成填写好的装箱单信息表格> -D <需要将文件生成到哪个文件夹下面>"
   ]
  },
  {
   "cell_type": "code",
   "execution_count": 2,
   "id": "valuable-monte",
   "metadata": {},
   "outputs": [
    {
     "name": "stdout",
     "output_type": "stream",
     "text": [
      "\u001b[38;5;247mic\u001b[39m\u001b[38;5;245m|\u001b[39m\u001b[38;5;245m \u001b[39m\u001b[38;5;247mpackageoutfile\u001b[39m\u001b[38;5;245m:\u001b[39m\u001b[38;5;245m \u001b[39m\u001b[38;5;36m'\u001b[39m\u001b[38;5;36m20230602_718/货件信息上传_生成.xlsx\u001b[39m\u001b[38;5;36m'\u001b[39m\n",
      "\u001b[38;5;247mic\u001b[39m\u001b[38;5;245m|\u001b[39m\u001b[38;5;245m \u001b[39m\u001b[38;5;247mboxoutfile\u001b[39m\u001b[38;5;245m:\u001b[39m\u001b[38;5;245m \u001b[39m\u001b[38;5;36m'\u001b[39m\u001b[38;5;36m20230602_718/\u001b[39m\u001b[38;5;36m'\u001b[39m\n",
      "[Errno 2] No such file or directory: ''\n",
      "\u001b[0m"
     ]
    }
   ],
   "source": [
    "!python GenShipData.py -i \"装箱单.xlsx\" -t \"货件信息模板.xlsx\" -o \"货件信息上传_生成.xlsx\" -D \"今天_718\""
   ]
  },
  {
   "cell_type": "code",
   "execution_count": 4,
   "id": "lovely-theory",
   "metadata": {},
   "outputs": [
    {
     "name": "stdout",
     "output_type": "stream",
     "text": [
      "\u001b[38;5;247mic\u001b[39m\u001b[38;5;245m|\u001b[39m\u001b[38;5;245m \u001b[39m\u001b[38;5;247mpackageoutfile\u001b[39m\u001b[38;5;245m:\u001b[39m\u001b[38;5;245m \u001b[39m\u001b[38;5;36m'\u001b[39m\u001b[38;5;36m20230602_test/货件信息上传_生成.xlsx\u001b[39m\u001b[38;5;36m'\u001b[39m\n",
      "\u001b[38;5;247mic\u001b[39m\u001b[38;5;245m|\u001b[39m\u001b[38;5;245m \u001b[39m\u001b[38;5;247mboxoutfile\u001b[39m\u001b[38;5;245m:\u001b[39m\u001b[38;5;245m \u001b[39m\u001b[38;5;36m'\u001b[39m\u001b[38;5;36m20230602_test/包装信息_生成.xlsx\u001b[39m\u001b[38;5;36m'\u001b[39m\n",
      "/home/dav/.local/lib/python3.11/site-packages/openpyxl/styles/stylesheet.py:226: UserWarning: Workbook contains no default style, apply openpyxl's default\n",
      "  warn(\"Workbook contains no default style, apply openpyxl's default\")\n",
      "/home/dav/.local/lib/python3.11/site-packages/openpyxl/styles/stylesheet.py:226: UserWarning: Workbook contains no default style, apply openpyxl's default\n",
      "  warn(\"Workbook contains no default style, apply openpyxl's default\")\n",
      "\u001b[0m"
     ]
    }
   ],
   "source": [
    "!python GenShipData.py -i \"装箱单.xlsx\" -t \"货件信息模板.xlsx\" -o \"货件信息上传_生成.xlsx\" -T \"inputfiles/2023-05-27.xlsx\" -O \"包装信息_生成.xlsx\" -D \"今天_test\""
   ]
  },
  {
   "cell_type": "code",
   "execution_count": null,
   "id": "interesting-wallpaper",
   "metadata": {},
   "outputs": [],
   "source": []
  }
 ],
 "metadata": {
  "kernelspec": {
   "display_name": "Python 3 (ipykernel)",
   "language": "python",
   "name": "python3"
  },
  "language_info": {
   "codemirror_mode": {
    "name": "ipython",
    "version": 3
   },
   "file_extension": ".py",
   "mimetype": "text/x-python",
   "name": "python",
   "nbconvert_exporter": "python",
   "pygments_lexer": "ipython3",
   "version": "3.11.3"
  }
 },
 "nbformat": 4,
 "nbformat_minor": 5
}
